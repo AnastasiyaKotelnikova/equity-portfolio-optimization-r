{
 "cells": [
  {
   "cell_type": "code",
   "execution_count": 1,
   "id": "62366bce-d26b-4dfe-ae86-c8815713e412",
   "metadata": {},
   "outputs": [
    {
     "name": "stderr",
     "output_type": "stream",
     "text": [
      "Warning message:\n",
      "\"package 'dplyr' was built under R version 4.4.2\"\n",
      "\n",
      "Attaching package: 'dplyr'\n",
      "\n",
      "\n",
      "The following objects are masked from 'package:stats':\n",
      "\n",
      "    filter, lag\n",
      "\n",
      "\n",
      "The following objects are masked from 'package:base':\n",
      "\n",
      "    intersect, setdiff, setequal, union\n",
      "\n",
      "\n",
      "Installing package into 'C:/Users/anast/AppData/Local/R/win-library/4.4'\n",
      "(as 'lib' is unspecified)\n",
      "\n"
     ]
    },
    {
     "name": "stdout",
     "output_type": "stream",
     "text": [
      "package 'lubridate' successfully unpacked and MD5 sums checked\n"
     ]
    },
    {
     "name": "stderr",
     "output_type": "stream",
     "text": [
      "Warning message:\n",
      "\"cannot remove prior installation of package 'lubridate'\"\n",
      "Warning message in file.copy(savedcopy, lib, recursive = TRUE):\n",
      "\"problem copying C:\\Users\\anast\\AppData\\Local\\R\\win-library\\4.4\\00LOCK\\lubridate\\libs\\x64\\lubridate.dll to C:\\Users\\anast\\AppData\\Local\\R\\win-library\\4.4\\lubridate\\libs\\x64\\lubridate.dll: Permission denied\"\n",
      "Warning message:\n",
      "\"restored 'lubridate'\"\n"
     ]
    },
    {
     "name": "stdout",
     "output_type": "stream",
     "text": [
      "\n",
      "The downloaded binary packages are in\n",
      "\tC:\\Users\\anast\\AppData\\Local\\Temp\\RtmpYlM4gJ\\downloaded_packages\n"
     ]
    },
    {
     "name": "stderr",
     "output_type": "stream",
     "text": [
      "\n",
      "Attaching package: 'lubridate'\n",
      "\n",
      "\n",
      "The following objects are masked from 'package:base':\n",
      "\n",
      "    date, intersect, setdiff, union\n",
      "\n",
      "\n",
      "\n",
      "Attaching package: 'data.table'\n",
      "\n",
      "\n",
      "The following objects are masked from 'package:lubridate':\n",
      "\n",
      "    hour, isoweek, mday, minute, month, quarter, second, wday, week,\n",
      "    yday, year\n",
      "\n",
      "\n",
      "The following objects are masked from 'package:dplyr':\n",
      "\n",
      "    between, first, last\n",
      "\n",
      "\n"
     ]
    }
   ],
   "source": [
    "# 1. STOCK ANALYSIS AND PORTFOLIO MANAGEMENT REPORT \n",
    "\n",
    "# This report summarizes the findings from the analysis of stock price data for a selected universe of technology stocks, including IBM, MSFT, GOOG, \n",
    "# AAPL, AMZN, META, NFLX, TSLA, ORCL, and SAP. The analysis focuses on calculating dividends, daily price changes, portfolio management strategies, and \n",
    "# performance metrics. \n",
    "\n",
    "# The objective is to manage a $5 million fund using two distinct rebalancing strategies—\"buying low\" and \"buying high\"—and to assess the performance \n",
    "# of each strategy over the course of 2018.\n",
    "\n",
    "\n",
    "# Load necessary libraries\n",
    "library(dplyr)\n",
    " install.packages(\"lubridate\")\n",
    "  library(lubridate)\n",
    " library(data.table)\n",
    " library(tidyr)\n",
    " options(repr.matrix.max.rows=600, repr.matrix.max.cols=200)\n",
    "  "
   ]
  },
  {
   "cell_type": "code",
   "execution_count": 2,
   "id": "02d51355-9270-4051-b89f-648bea9f424d",
   "metadata": {},
   "outputs": [
    {
     "name": "stderr",
     "output_type": "stream",
     "text": [
      "Warning message in file(file, \"rt\"):\n",
      "\"cannot open file 'IBM.csv': No such file or directory\"\n"
     ]
    },
    {
     "ename": "ERROR",
     "evalue": "Error in file(file, \"rt\"): cannot open the connection\n",
     "output_type": "error",
     "traceback": [
      "Error in file(file, \"rt\"): cannot open the connection\nTraceback:\n",
      "1. read.table(file = file, header = header, sep = sep, quote = quote, \n .     dec = dec, fill = fill, comment.char = comment.char, ...)",
      "2. file(file, \"rt\")",
      "3. .handleSimpleError(function (cnd) \n . {\n .     watcher$capture_plot_and_output()\n .     cnd <- sanitize_call(cnd)\n .     watcher$push(cnd)\n .     switch(on_error, continue = invokeRestart(\"eval_continue\"), \n .         stop = invokeRestart(\"eval_stop\"), error = invokeRestart(\"eval_error\", \n .             cnd))\n . }, \"cannot open the connection\", base::quote(file(file, \"rt\")))"
     ]
    }
   ],
   "source": [
    "# 2. Data Preparation. Download and read data. \n",
    "\n",
    "\n",
    "# Historical stock data for the selected companies was sourced from Yahoo Finance. Each stock's historical prices were downloaded in CSV format, with a # focus on the \"Close\" and \"Adj Close\" prices for analysis. The following stocks were included in the analysis: IBM, MSFT, GOOG, AAPL, AMZN,\n",
    "# META, NFLX, ORCL, SAP, TSLA. \n",
    "\n",
    "IBM = read.csv(\"IBM.csv\")\n",
    " MSFT = read.csv(\"MSFT.csv\")\n",
    " GOOG = read.csv(\"GOOG.csv\")\n",
    " AAPL = read.csv(\"AAPL.csv\")\n",
    " AMZN = read.csv(\"AMZN.csv\")\n",
    " META = read.csv(\"META.csv\")\n",
    " NFLX = read.csv(\"NFLX.csv\")\n",
    " ORCL = read.csv(\"ORCL.csv\")\n",
    " SAP = read.csv(\"SAP.csv\")\n",
    " TSLA = read.csv(\"TSLA.csv\")\n",
    "\n",
    "# Check the first few rows of the Date column\n",
    "# Convert Date column before calling cal_div\n",
    "IBM$Date <- as.Date(IBM$Date, format = \"%d-%b-%y\")\n",
    "MSFT$Date <- as.Date(MSFT$Date, format = \"%d-%b-%y\")\n",
    "GOOG$Date <- as.Date(GOOG$Date, format = \"%d-%b-%y\")\n",
    "AAPL$Date <- as.Date(AAPL$Date, format = \"%d-%b-%y\")\n",
    "AMZN$Date <- as.Date(AMZN$Date, format = \"%d-%b-%y\")\n",
    "META$Date <- as.Date(META$Date, format = \"%d-%b-%y\")\n",
    "NFLX$Date <- as.Date(NFLX$Date, format = \"%d-%b-%y\")\n",
    "ORCL$Date <- as.Date(ORCL$Date, format = \"%d-%b-%y\")\n",
    "SAP$Date <- as.Date(SAP$Date, format = \"%d-%b-%y\")\n",
    "TSLA$Date <- as.Date(TSLA$Date, format = \"%d-%b-%y\")\n",
    "\n",
    "str(IBM)\n"
   ]
  },
  {
   "cell_type": "code",
   "execution_count": null,
   "id": "10f5103e-f956-44fb-8ed8-c337fa02d70e",
   "metadata": {},
   "outputs": [],
   "source": [
    "#3. Corporations generally issue stock dividends on some days. The total dividend you get\n",
    "#on such a day is the stock dividend times your shares if you have shares of this stock on\n",
    "#the dividend day. If you buy shares on the dividend day, these bought shares are not\n",
    "#qualified to get dividend. If you sell shares on the dividend day, the sold shares are\n",
    "#qualified to get dividend. For example, on 2/8/2018, IBM issued 1.5 dividend per share.\n",
    "#Calculating the dividend.\n",
    "\n",
    "cal_div = function(df){\n",
    "    df_shift = setDF(shift(df, n=1L, fill=NA, type=c(\"lag\"), give.names=TRUE))\n",
    "    df_new = data.frame(df[\"Date\"], df[\"Close\"],\n",
    " round(df_shift[\"Close_lag_1\"]/df[\"Close\"], 6),\n",
    " round(df_shift[\"Adj.Close_lag_1\"]/df[\"Adj.Close\"], 6))\n",
    "    df_new[is.na(df_new)] = 0\n",
    "    df_Div = df_new[(df_new$Close_lag_1 - df_new$Adj.Close_lag_1) > 0.00001,]\n",
    "    df_Div = data.frame(df_new[\"Date\"], df_new[\"Close\"], Div = (df_new$Close_lag_1 -\n",
    "df_new$Adj.Close_lag_1 >0.00001) * (df_new$Close_lag_1 - df_new$Adj.Close_lag_1))\n",
    "    df_Div = transmute(df_Div, Date = Date, Dividend = round(Close * Div, 2))\n",
    "    return (df_Div)\n",
    " }\n",
    "\n",
    "\n"
   ]
  },
  {
   "cell_type": "code",
   "execution_count": null,
   "id": "a3b54f34-b9c9-409e-a222-e38749d67a43",
   "metadata": {},
   "outputs": [],
   "source": [
    "#Days Shift\n",
    "days = 5"
   ]
  },
  {
   "cell_type": "code",
   "execution_count": null,
   "id": "0f240a06-3aa3-4a41-a10d-0d5a9ed80523",
   "metadata": {},
   "outputs": [],
   "source": [
    "#Calculate price changes according to the days shift\n",
    "cal_change = function(days, df){\n",
    "    before = df[1, \"Adj.Close\"]\n",
    "    df_new = data.frame()\n",
    "    for(i in seq(1,nrow(df),days)){\n",
    "        after = df[i, \"Adj.Close\"]\n",
    "        df_new[i,1] = after/before\n",
    "        before = after\n",
    "    }\n",
    "    df_new[is.na(df_new)] = 0\n",
    "    if(nrow(df_new) != nrow(df)){\n",
    "        for(i in (nrow(df_new)+1):250){\n",
    "            df_new[i,1] = 0\n",
    "        }\n",
    "    }\n",
    "    return (df_new)\n",
    " }"
   ]
  },
  {
   "cell_type": "code",
   "execution_count": null,
   "id": "f5c521d9-d539-4814-a14d-daf964713a6d",
   "metadata": {},
   "outputs": [],
   "source": [
    "# Creating the Universe: \n",
    "# The final dataset comprised 10 CSV files, each containing daily stock price information for 2018. A comprehensive DataFrame was created, \n",
    "# consolidating the \"Close\" and \"Adj Close\" prices into 20 columns, with each row representing daily prices, and dividends. \n",
    "\n",
    "\n",
    "universe_change = function(universe, days) {\n",
    "    universe[,5] = cal_change(days, IBM)\n",
    "    universe[,9] = cal_change(days, MSFT)\n",
    "    universe[,13] = cal_change(days, GOOG)\n",
    "    universe[,17] = cal_change(days, AAPL)\n",
    "    universe[,21] = cal_change(days, AMZN)\n",
    "    universe[,25] = cal_change(days, META)\n",
    "    universe[,29] = cal_change(days, NFLX)\n",
    "    universe[,33] = cal_change(days, ORCL)\n",
    "    universe[,37] = cal_change(days, SAP)\n",
    "    universe[,41] = cal_change(days, TSLA)\n",
    "    return (universe)\n",
    " }"
   ]
  },
  {
   "cell_type": "code",
   "execution_count": null,
   "id": "5d952a61-8011-4d83-bd20-2197bd7bc5f8",
   "metadata": {},
   "outputs": [],
   "source": [
    " #IBM_change = cal_change(days, IBM)\n",
    " #MSFT_change = cal_change(days, MSFT)\n",
    " #GOOG_change = cal_change(days, GOOG)\n",
    " #AAPL_change = cal_change(days, AAPL)\n",
    " #AMZN_change = cal_change(days, AMZN)\n",
    " #META_change = cal_change(days, META)\n",
    " #NFLX_change = cal_change(days, NFLX)\n",
    " #ORCL_change = cal_change(days, ORCL)\n",
    " #SAP_change = cal_change(days, SAP)\n",
    " #TSLA_change = cal_change(days, TSLA)"
   ]
  },
  {
   "cell_type": "code",
   "execution_count": null,
   "id": "d4ac598a-f9ee-4d91-a5fe-91a8ad6d666f",
   "metadata": {},
   "outputs": [],
   "source": [
    "#Clear data for USD_JPN\n",
    "USD_JPY = read.csv(\"USDJPY_historical_data.csv\")[,c(1,5)]\n",
    "USD_JPY$Date = as.Date(USD_JPY$Date, format=\"%d-%b-%y\")\n",
    "USD_JPY = rename(USD_JPY, JPY_Close = Closeÿ)\n",
    "str(USD_JPY)\n",
    "\n"
   ]
  },
  {
   "cell_type": "code",
   "execution_count": null,
   "id": "5746e80e-d5c2-4c71-8218-6411b8f4feb9",
   "metadata": {},
   "outputs": [],
   "source": [
    "#Creating Detail for Universe\n",
    "Create_Universe = function() {\n",
    "  # Calculating dividends for each stock\n",
    "  IBM_Div = cal_div(IBM)\n",
    "  MSFT_Div = cal_div(MSFT)\n",
    "  GOOG_Div = cal_div(GOOG)\n",
    "  AAPL_Div = cal_div(AAPL)\n",
    "  AMZN_Div = cal_div(AMZN)\n",
    "  META_Div = cal_div(META)\n",
    "  NFLX_Div = cal_div(NFLX)\n",
    "  ORCL_Div = cal_div(ORCL)\n",
    "  SAP_Div = cal_div(SAP)\n",
    "  TSLA_Div = cal_div(TSLA)\n",
    "\n",
    "  # Calculating daily percentage changes for each stock\n",
    "  IBM_change = cal_change(days, IBM)\n",
    "  MSFT_change = cal_change(days, MSFT)\n",
    "  GOOG_change = cal_change(days, GOOG)\n",
    "  AAPL_change = cal_change(days, AAPL)\n",
    "  AMZN_change = cal_change(days, AMZN)\n",
    "  META_change = cal_change(days, META)\n",
    "  NFLX_change = cal_change(days, NFLX)\n",
    "  ORCL_change = cal_change(days, ORCL)\n",
    "  SAP_change = cal_change(days, SAP)\n",
    "  TSLA_change = cal_change(days, TSLA)\n",
    "\n",
    "  universe = data.frame(IBM[\"Date\"])\n",
    "\n",
    "universe = mutate(universe, IBM_Close = IBM$Close, IBM_Adj = IBM$Adj.Close,\n",
    "IBM_Dividend = IBM_Div$Dividend, IBM_ch = IBM_change[,1])\n",
    "universe = mutate(universe, MSFT_Close = MSFT$Close, MSFT_Adj = MSFT$Adj.Close,\n",
    "MSFT_Dividend = MSFT_Div$Dividend, MSFT_ch = MSFT_change[,1])\n",
    "universe = mutate(universe, GOOG_Close = GOOG$Close, GOOG_Adj = GOOG$Adj.Close,\n",
    "GOOG_Dividend = GOOG_Div$Dividend, GOOG_ch = GOOG_change[,1])\n",
    "\n",
    "universe = mutate(universe, AAPL_Close = AAPL$Close, AAPL_Adj = AAPL$Adj.Close,\n",
    "AAPL_Dividend = AAPL_Div$Dividend, AAPL_ch = AAPL_change[,1])\n",
    "universe = mutate(universe, AMZN_Close = AMZN$Close, AMZN_Adj = AMZN$Adj.Close,\n",
    "AMZN_Dividend = AMZN_Div$Dividend, AMZN_ch = AMZN_change[,1])\n",
    "universe = mutate(universe, META_Close = META$Close, META_Adj = META$Adj.Close,\n",
    "META_Dividend = META_Div$Dividend, FB_ch = FB_change[,1])\n",
    "universe = mutate(universe, NFLX_Close = NFLX$Close, NFLX_Adj = NFLX$Adj.Close,\n",
    "NFLX_Dividend = NFLX_Div$Dividend, NFLX_ch = NFLX_change[,1])\n",
    "universe = mutate(universe, ORCL_Close = ORCL$Close, ORCL_Adj = ORCL$Adj.Close,\n",
    "ORCL_Dividend = ORCL_Div$Dividend, ORCL_ch = ORCL_change[,1])\n",
    "universe = mutate(universe, SAP_Close = SAP$Close, SAP_Adj = SAP$Adj.Close,\n",
    "SAP_Dividend = SAP_Div$Dividend, SAP_ch = SAP_change[,1])\n",
    "universe = mutate(universe, TSLA_Close = TSLA$Close, TSLA_Adj = TSLA$Adj.Close,\n",
    "TSLA_Dividend = TSLA_Div$Dividend, TSLA_ch = TSLA_change[,1])\n",
    " \n",
    "  # Converting Date format and merging with USD/JPY data\n",
    "  universe$Date = as.Date(universe$Date, format=\"%d-%m-%Y\")\n",
    "  universe = merge(universe, USD_JPY, by=\"Date\")\n",
    "  \n",
    "  return(universe)\n",
    "}\n"
   ]
  },
  {
   "cell_type": "code",
   "execution_count": null,
   "id": "bb2699af-5869-427b-85b4-9e27ec0a78f5",
   "metadata": {},
   "outputs": [],
   "source": [
    "universe = Create_Universe() \n",
    "universe\n",
    "\n"
   ]
  },
  {
   "cell_type": "code",
   "execution_count": null,
   "id": "d907dca8-09db-4d60-9a24-7a0413684019",
   "metadata": {},
   "outputs": [],
   "source": [
    "#4. 5 business days later on Jan 17 (Jan 15 was a holiday), you re-check the market and adjust your portfolio again. You will have a new portfolio on Jan 17.\n",
    "#The first day (01/02/2018)\n",
    "#['IBM','MSFT', 'GOOG&', 'AAPL', 'AMZN']\n",
    "\n",
    "holdstock = c(1:5) \n",
    "buystock = c(1:5)\n",
    "#portfolio : cash, stock1_shares, stock2_shares,..., stock5_shares\n",
    "portfolio = c(5000000, 0, 0, 0, 0, 0)\n",
    "row_num = 1;\n"
   ]
  },
  {
   "cell_type": "code",
   "execution_count": null,
   "id": "ce985d58-9b4b-4ed5-a1fd-bd1dab80cee7",
   "metadata": {},
   "outputs": [],
   "source": [
    "buy_stock = function(buystock, p)\n",
    "{ money_to_buy = 1:5\n",
    " money_to_buy[1] = as.integer(p[1]/5) + p[1]%%5   \n",
    "  money_to_buy[2] = as.integer(p[1]/5)\n",
    " money_to_buy[3] = as.integer(p[1]/5)   \n",
    " money_to_buy[4] = as.integer(p[1]/5)\n",
    "money_to_buy[5] = as.integer(p[1]/5)\n",
    "  for(i in 1:5){ \n",
    "      p[i+1] = as.integer(money_to_buy[i]/universe[row_num, 4 * buystock[i] - 2])\n",
    "       p[1] = p[1] - (p[i+1] * universe[row_num, 4 * buystock[i] - 2])\n",
    "      }\n",
    " return(p)\n",
    " }"
   ]
  },
  {
   "cell_type": "code",
   "execution_count": null,
   "id": "829ecb23-b8f4-4044-a51c-fcbda6375e3c",
   "metadata": {},
   "outputs": [],
   "source": [
    "portfolio = buy_stock(buystock, portfolio)"
   ]
  },
  {
   "cell_type": "code",
   "execution_count": null,
   "id": "c5cafe0b-4711-41c4-8f9a-35c77d5799db",
   "metadata": {},
   "outputs": [],
   "source": [
    "portfolio"
   ]
  },
  {
   "cell_type": "code",
   "execution_count": null,
   "id": "8db2e45e-bb07-4083-bda5-ff147892138b",
   "metadata": {},
   "outputs": [],
   "source": [
    "holdstock = buystock"
   ]
  },
  {
   "cell_type": "code",
   "execution_count": null,
   "id": "f6dd145d-6d3d-47ac-a2e4-8dd9d6d5b288",
   "metadata": {},
   "outputs": [],
   "source": [
    "#5. Daily Mark-to-Market (MTM) Calculation: \n",
    "# The calculate_mtm function was developed to track the MTM value of the portfolio, factoring in cash holdings and stock prices over time.   \n",
    "# MTM values were calculated daily, reflecting changes in stock prices and any dividends received. The MTM series for both strategies was tracked \n",
    "# throughout the year.\n",
    "\n",
    "\n",
    "#calculate MTM\n",
    "cal_MTM = function(p){\n",
    "    MTM = 0\n",
    "     for(i in 1:5){\n",
    "         MTM = MTM + p[i+1] * universe[row_num, (holdstock[i]*4-2)]\n",
    "         }\n",
    "    MTM = MTM + p[1]   \n",
    "    return (MTM)\n",
    "    }\n"
   ]
  },
  {
   "cell_type": "code",
   "execution_count": null,
   "id": "337b16ec-b758-473f-b87b-c815aaaef414",
   "metadata": {},
   "outputs": [],
   "source": [
    "MTM_Series = 5000000\n",
    "MTM_Series"
   ]
  },
  {
   "cell_type": "code",
   "execution_count": null,
   "id": "8f96e653-58fd-4dec-91a0-acee2aef8458",
   "metadata": {},
   "outputs": [],
   "source": [
    "#Sale of all the stocks\n",
    "sale_stock = function(holdstock, p) {\n",
    "     for(i in 1:5){\n",
    "          p[1] = p[1] + p[i+1]*universe[row_num, holdstock[i]*4-2]\n",
    "          p[i+1] = 0\n",
    "         }\n",
    "    return(p)\n",
    "    }\n"
   ]
  },
  {
   "cell_type": "code",
   "execution_count": null,
   "id": "97385950-2411-43a1-a8c6-8393ff2d7a05",
   "metadata": {},
   "outputs": [],
   "source": [
    "#Check dividend\n",
    "check_div = function(holdstock, p) {\n",
    "     earn_dividend = 0\n",
    "     for(i in 1:5){\n",
    "          if(universe[row_num, holdstock[i]*4] != 0){\n",
    "              earn_dividend = earn_dividend + p[i+1] * universe[row_num, holdstock[i]*4]\n",
    "              }\n",
    "         }\n",
    "    return(earn_dividend)\n",
    "    }\n"
   ]
  },
  {
   "cell_type": "code",
   "execution_count": null,
   "id": "cfe55a76-7746-4554-a567-3e336fe66052",
   "metadata": {},
   "outputs": [],
   "source": [
    "#find where the drop is the most.\n",
    "find_drop = function(){\n",
    "    change = c()\n",
    "    for(i in 1:10){\n",
    "        change = c(change, universe[row_num, i*4+1])\n",
    "        }\n",
    "    return(order(change))\n",
    "    }"
   ]
  },
  {
   "cell_type": "code",
   "execution_count": null,
   "id": "622a7f1c-cb26-4cb6-b9f3-a9c5057c7296",
   "metadata": {},
   "outputs": [],
   "source": [
    "#6. If you run this strategy every 5 days all the way to Dec 31 2018, you will have a daily MTM\n",
    "#You expect the MTM on Dec 31 2018 should be higher than 5m because you\n",
    "#always buy the stocks that dropped the most, i.e., you always buy low.\n",
    "#Calculate 5 days rebalancing for buy low\n",
    "\n",
    "for(i in 2:nrow(universe)){\n",
    "    print(row_num)\n",
    "    print(universe[row_num,1])\n",
    "    earn_div = 0\n",
    "    earn_div = check_div(holdstock, portfolio)\n",
    "    portfolio[1] = portfolio[1] + earn_div\n",
    "    if(row_num %% days == 1){ ## need to change portfolio\n",
    "         print(\"\")\n",
    "         portfolio = sale_stock(holdstock, portfolio)\n",
    "        buystock = c(find_drop()[1:5])\n",
    "         portfolio = buy_stock(buystock, portfolio)\n",
    "          holdstock = buystock\n",
    "        }\n",
    "     MTM_Series = c(MTM_Series, cal_MTM(portfolio))\n",
    "     print(holdstock)\n",
    "     print(portfolio)\n",
    "    }"
   ]
  },
  {
   "cell_type": "code",
   "execution_count": null,
   "id": "156a149a-63f7-4e46-92c4-31e035dc8a0e",
   "metadata": {
    "scrolled": true
   },
   "outputs": [],
   "source": [
    "MTM_Series\n",
    "length(MTM_Series)"
   ]
  },
  {
   "cell_type": "code",
   "execution_count": null,
   "id": "2a2be161-1531-4d56-9f88-a96b1eb30aa8",
   "metadata": {},
   "outputs": [],
   "source": [
    "#7. You will create a \"high tech index\" which is simply the daily average of the 10 stocks \"Close\" prices.\n",
    "#Compare your MTM series with the \"high tech index\" and plot their curves. To plot the\n",
    "#two curves together, you may want to convert the series to daily percentage change with\n",
    "#regard to Jan 02 2018\n",
    "#Calculate high tech index\n",
    "close_price =\n",
    "cbind(universe[,2],universe[,6],universe[,10],universe[,14],universe[,18],\n",
    "      universe[,22],universe[,26],universe[,30],universe[,34],universe[,38])\n",
    "close_price"
   ]
  },
  {
   "cell_type": "code",
   "execution_count": null,
   "id": "195da466-b6b8-47a1-8b53-e8a2082f9f37",
   "metadata": {},
   "outputs": [],
   "source": [
    "high_tech_index = apply(close_price, 1, mean)\n",
    "#high_tech_index\n"
   ]
  },
  {
   "cell_type": "code",
   "execution_count": null,
   "id": "a0954b0a-a167-46cd-8cf3-51445e9e1b3d",
   "metadata": {},
   "outputs": [],
   "source": [
    "#Plot curve for buying high and high tech index\n",
    "daily_change_mtm = 0\n",
    "for (i in 1:length(MTM_Series)){\n",
    "     daily_change_mtm[i] = MTM_Series[i]/MTM_Series[1]\n",
    "    }\n",
    "daily_change_index = 0\n",
    "for (i in 1:length(high_tech_index)){\n",
    "     daily_change_index[i] = high_tech_index[i]/high_tech_index[1]\n",
    "    }\n",
    "\n"
   ]
  },
  {
   "cell_type": "code",
   "execution_count": null,
   "id": "8042ea62-c1cc-4f91-9baa-2c4704c82441",
   "metadata": {},
   "outputs": [],
   "source": [
    "day = 1:length(universe[,1])\n",
    "options(repr.plot.width = 10, repr.plot.height = 10)\n",
    "plot(day,daily_change_mtm,type='line',col=\"blue\", pch=\"o\", lty=1, ylim=c(0.9,1.4), lwd=2)\n",
    "lines(day, daily_change_index, col=\"red\",lty=1, lwd = 2)\n",
    "box(lwd=4)"
   ]
  },
  {
   "cell_type": "code",
   "execution_count": null,
   "id": "474603fe-9e48-486d-8951-263b5df34802",
   "metadata": {},
   "outputs": [],
   "source": [
    "#8. Download the USD/JPY 2018 historical data at https://www.myfxbook.com/en/forex-market/currencies/USDJPY-historical-data\n",
    "#then use the \"Close\" column as the rate to convert your MTM series from USD to JPY.\n",
    "#Plot the two MTM curves. You will need to convert to daily percentage change too. \n",
    "#Translate USD to JPY and Plot the JPY MTM for Buying low\n",
    "\n",
    "JPY_MTM_Series = MTM_Series * universe[,'JPY_Close']\n"
   ]
  },
  {
   "cell_type": "code",
   "execution_count": null,
   "id": "d2479a45-3de0-4b19-86f6-255622b170db",
   "metadata": {},
   "outputs": [],
   "source": [
    "daily_change_JPY_mtm = 0\n",
    "for (i in 1:length(JPY_MTM_Series)){\n",
    "     daily_change_JPY_mtm[i] = JPY_MTM_Series[i]/JPY_MTM_Series[1]\n",
    "    }\n",
    "daily_change_JPY_mtm"
   ]
  },
  {
   "cell_type": "code",
   "execution_count": null,
   "id": "2a7d4f34-5bd4-4e79-97e0-15c42c156849",
   "metadata": {},
   "outputs": [],
   "source": [
    "day = 1:length(universe[,1])\n",
    "\n",
    "plot(day,daily_change_mtm,type='line',col=\"blue\", pch=\"o\", lty=1, ylim=c(0.8,1.3), lwd = 2)\n",
    "\n",
    "lines(day, daily_change_JPY_mtm, col=\"red\",lty=1, lwd = 2)\n",
    "\n",
    "box(lwd=4)"
   ]
  },
  {
   "cell_type": "code",
   "execution_count": null,
   "id": "0cdc5822-a42f-4297-bf04-a1fc6f7d0bed",
   "metadata": {},
   "outputs": [],
   "source": [
    "#9. The above two strategies both rebalance every 5 days. Try to change the days interval and find the optimal days interval that maximizes the MTM on 12/31/2018.\n",
    "# Portfolio Management Strategy. Initial Portfolio Setup. \n",
    "\n",
    "# An initial investment of $5,000,000 was allocated  allocated equally among selected stocks (IBM, MSFT, GOOG, AAPL, and AMZN). Each stock received an # equal share of the investment.\n",
    "# Each stock received $1 million. Based on the closing prices, the number of shares purchased and the remaining cash in the zero-interest account were # calculated.\n",
    "\n",
    "#Calculate the optimal days\n",
    "for(d in 1:nrow(universe)){\n",
    "days = d\n",
    "## initialize\n",
    "universe = universe_change(universe, d)\n",
    " holdstock = c(1:5)\n",
    "buystock = c(1:5)\n",
    "portfolio = c(5000000, 0, 0, 0, 0, 0)\n",
    "MTM_Series = NA\n",
    "    for(i in 1:nrow(universe)){\n",
    "        row_num = i\n",
    "        #print(universe[row_num,1])\n",
    "\n",
    "\n",
    "#10. Dividend Earnings: \n",
    "# Dividends were calculated for each stock based on the price data, contributing to the overall returns of the portfolio.        \n",
    "earn_div = 0\n",
    "earn_div = check_div(holdstock, portfolio)\n",
    "portfolio[1] = portfolio[1] + earn_div\n",
    "        if(days == 1) {\n",
    "            portfolio = sale_stock(holdstock, portfolio)\n",
    "            buystock = c(find_drop()[1:5])\n",
    "            portfolio = buy_stock(buystock, portfolio)\n",
    "            holdstock = buystock\n",
    "         }else if(row_num %% days == 1){ ## need to change portfolio\n",
    "            #print(\"\")\n",
    "            portfolio = sale_stock(holdstock, portfolio)\n",
    "            buystock = c(find_drop()[1:5])\n",
    "            portfolio = buy_stock(buystock, portfolio)\n",
    "            holdstock = buystock\n",
    "            }\n",
    "            MTM_Series = c(MTM_Series, cal_MTM(portfolio))\n",
    "        #print(holdstock)\n",
    "        #print(portfolio)\n",
    "}\n",
    "    MTM_Series = na.omit(MTM_Series)\n",
    "    if(d == 1){\n",
    "        Last_MTM_Series = MTM_Series[length(MTM_Series)]\n",
    "        }else {\n",
    "        Last_MTM_Series = c(Last_MTM_Series, MTM_Series[length(MTM_Series)])\n",
    "            }\n",
    "    }\n",
    "        length(Last_MTM_Series)"
   ]
  },
  {
   "cell_type": "code",
   "execution_count": null,
   "id": "606ebeb8-d525-428b-9337-901ad5fdedf9",
   "metadata": {},
   "outputs": [],
   "source": [
    "Last_MTM_Series\n",
    "order(Last_MTM_Series)[length(Last_MTM_Series)]"
   ]
  },
  {
   "cell_type": "code",
   "execution_count": null,
   "id": "10d3dd7f-8c03-4a19-bda0-8416ebd7d563",
   "metadata": {},
   "outputs": [],
   "source": [
    "#optimal day of interval is 193"
   ]
  },
  {
   "cell_type": "code",
   "execution_count": null,
   "id": "fc55d378-3844-41ea-b209-a4fc76f058f8",
   "metadata": {},
   "outputs": [],
   "source": [
    "#11. Another strategy is \"5 days rebalancing of buying high\" You always buy the 5 stocks\n",
    "#whose \"Adj Close\" prices surge the most in terms of percentage because you believe the\n",
    "#trend will continue. Run the new strategy and see how the MTM will change.\n",
    "#Calculate 5 days rebalancing for buy high\n",
    "\n",
    "days = 5\n",
    "\n",
    "universe = universe_change(universe, days)\n",
    "holdstock = c(1:5)\n",
    "buystock = c(1:5)\n",
    "\n",
    "portfolio = c(5000000, 0, 0, 0, 0, 0)\n",
    "\n",
    "MTM_Series_High = NA\n",
    "for(i in 1:nrow(universe)){\n",
    "row_num = i\n",
    "earn_div = 0\n",
    "\n",
    "earn_div = check_div(holdstock, portfolio)\n",
    "portfolio[1] = portfolio[1] + earn_div\n",
    "    if(row_num %% days == 1){ ## need to change portfolio\n",
    "\n",
    "\n",
    "\n",
    "portfolio = sale_stock(holdstock, portfolio)\n",
    "        buystock = c(find_drop()[10:6])\n",
    "        #print(buystock)\n",
    "        portfolio = buy_stock(buystock, portfolio)\n",
    "        holdstock = buystock\n",
    "}\n",
    "    MTM_Series_High = c(MTM_Series_High, cal_MTM(portfolio))\n",
    "\n",
    "}\n",
    "\n",
    "MTM_Series_High = na.omit(MTM_Series_High)"
   ]
  },
  {
   "cell_type": "code",
   "execution_count": null,
   "id": "b7c59c6b-49f9-4f66-8e1b-78a6d27e867c",
   "metadata": {},
   "outputs": [],
   "source": [
    "MTM_Series_High"
   ]
  },
  {
   "cell_type": "code",
   "execution_count": null,
   "id": "804331c2-0337-4576-b9a6-b49cecfaf03b",
   "metadata": {},
   "outputs": [],
   "source": [
    "#12. Portfolio Performance:\n",
    "# The performance of the portfolio was monitored using the MTM series. \n",
    "# A \"High Tech Index\" was computed as the daily average of the \"Close\" prices of all ten stocks, providing a benchmark for performance comparison.\n",
    "\n",
    "#Plot curve for buying high and high tech index\n",
    "daily_change_mtm_high = 0\n",
    "for (i in 1:length(MTM_Series_High)){\n",
    "    daily_change_mtm_high[i] = MTM_Series_High[i]/MTM_Series_High[1]\n",
    "\n",
    "}\n",
    "daily_change_index_high = 0\n",
    "for (i in 1:length(high_tech_index)){\n",
    "\n",
    "daily_change_index_high[i] = high_tech_index[i]/high_tech_index[1]\n",
    "    }"
   ]
  },
  {
   "cell_type": "code",
   "execution_count": null,
   "id": "273636f6-8954-483b-968a-0a9dfb38853b",
   "metadata": {},
   "outputs": [],
   "source": [
    "day = 1:length(universe[,1])\n",
    "\n",
    "options(repr.plot.width = 10, repr.plot.height = 10)\n",
    "plot(day,daily_change_mtm_high,type= 'line',col=\"blue\", pch=\"o\", lty=1, ylim=c(0.9,1.4),lwd = 2)\n",
    "lines(day, daily_change_index_high, col=\"red\",lty=1, lwd = 2)\n",
    "\n",
    "box(lwd=4)"
   ]
  },
  {
   "cell_type": "code",
   "execution_count": null,
   "id": "6a15c76d-39ae-4777-af25-c2812c5788bc",
   "metadata": {},
   "outputs": [],
   "source": [
    "#Translate USD to JPY and Plot the JPY MTM for Buying high\n",
    "JPY_MTM_Series_High = MTM_Series_High * universe[,'JPY_Close']"
   ]
  },
  {
   "cell_type": "code",
   "execution_count": null,
   "id": "231fb83a-82b0-4aff-a05e-7f1b9c044f15",
   "metadata": {},
   "outputs": [],
   "source": [
    "daily_change_JPY_mtm_high = 0\n",
    "for (i in 1:length(JPY_MTM_Series)){\n",
    "    daily_change_JPY_mtm_high[i] = JPY_MTM_Series_High[i]/JPY_MTM_Series_High[1]\n",
    "    }\n",
    "daily_change_JPY_mtm_high"
   ]
  },
  {
   "cell_type": "code",
   "execution_count": null,
   "id": "30798e68-313f-4d32-9ac2-b350d23bad9c",
   "metadata": {},
   "outputs": [],
   "source": [
    "day = 1:length(universe[,1])\n",
    "plot(day,daily_change_mtm_high,type='line',col=\"blue\", pch=\"o\", lty=1, ylim=c(0.8,1.3), lwd = 2)\n",
    "lines(day, daily_change_JPY_mtm_high, col=\"red\",lty=1, lwd = 2)\n",
    "box(lwd=4)"
   ]
  },
  {
   "cell_type": "code",
   "execution_count": null,
   "id": "e554eb5f-0bab-473d-91d5-d0c59f01347b",
   "metadata": {},
   "outputs": [],
   "source": [
    "#13. Calculate the optimal days interval.\n",
    "#needs to be reviewed due to warning messages.\n",
    "for(d in 1:nrow(universe)){\n",
    "days = d\n",
    "    ## initialize\n",
    "\n",
    "universe = universe_change(universe, d)\n",
    "\n",
    "holdstock = c(1:5)\n",
    "buystock = c(1:5)\n",
    "\n",
    "portfolio = c(5000000, 0, 0, 0, 0, 0)\n",
    "\n",
    "MTM_Series_High = NA\n",
    "    for(i in 1:nrow(universe)){\n",
    "row_num = i\n",
    "#print(universe[row_num,1])\n",
    "earn_div = 0\n",
    "\n",
    "earn_div = check_div(holdstock, portfolio)\n",
    "portfolio[1] = portfolio[1] + earn_div\n",
    "        if(days == 1) {\n",
    "            portfolio = sale_stock(holdstock, portfolio)\n",
    "buystock = c(find_drop()[10:6])\n",
    "portfolio = buy_stock(buystock, portfolio)\n",
    "holdstock = buystock\n",
    "            }else if(row_num %% days == 1){ ## need to change portfolio\n",
    "\n",
    "#print(\"\")\n",
    "\n",
    "portfolio = sale_stock(holdstock, portfolio)\n",
    "buystock = c(find_drop()[10:6])\n",
    "portfolio = buy_stock(buystock, portfolio)\n",
    "\n",
    "holdstock = buystock\n",
    "}\n",
    " MTM_Series_High = c(MTM_Series_High, cal_MTM(portfolio))\n",
    "\n",
    "#print(holdstock)\n",
    "#print(portfolio)\n",
    "        }\n",
    " \n",
    "MTM_Series_High = na.omit(MTM_Series_High)\n",
    "\n",
    "if(d == 1){\n",
    "    Last_MTM_Series_High = MTM_Series_High[length(MTM_Series_High)]\n",
    "\n",
    "}else {\n",
    "\n",
    "Last_MTM_Series_High = c(Last_MTM_Series_High,\n",
    "MTM_Series_High[length(MTM_Series_High)])\n",
    "\n",
    "}\n",
    "}"
   ]
  },
  {
   "cell_type": "code",
   "execution_count": null,
   "id": "2f9982f1-eea3-4916-94df-32554c2bec8c",
   "metadata": {},
   "outputs": [],
   "source": [
    "Last_MTM_Series_High\n",
    "order(Last_MTM_Series_High)[length(Last_MTM_Series_High)]\n"
   ]
  },
  {
   "cell_type": "code",
   "execution_count": null,
   "id": "da612321-f2fb-4610-83cb-4fd150337fe7",
   "metadata": {},
   "outputs": [],
   "source": [
    "#The optimal day interval of buying high is 17."
   ]
  },
  {
   "cell_type": "code",
   "execution_count": null,
   "id": "cf0068a0-be17-4a02-a822-cfb2c4291992",
   "metadata": {},
   "outputs": [],
   "source": [
    "# Visualization\n",
    "# Graphical representations were created to illustrate the MTM value versus the high-tech index, showcasing the portfolio's performance over time.\n",
    "\n",
    "# Strategy Effectiveness\n",
    "# Both a buy-low and a buy-high strategy were tested, yielding insights into the optimal days for rebalancing the portfolio. The performance metrics \n",
    "# indicated a potential strategy for maximizing returns through careful stock selection and timing.\n",
    "\n",
    "# Conclusion\n",
    "# The analysis effectively demonstrated how systematic portfolio management, informed by detailed stock price analysis, can lead to informed investment # decisions. The implementation of a systematic approach to rebalancing and dividend calculation allowed for an optimized investment strategy.\n",
    "\n",
    "# The \"buying low\" strategy demonstrated a higher MTM by the end of the year compared to the \"buying high\" strategy.\n",
    "# The MTM values were consistently higher than the High Tech Index, indicating effective portfolio management.\n"
   ]
  }
 ],
 "metadata": {
  "kernelspec": {
   "display_name": "R",
   "language": "R",
   "name": "ir"
  },
  "language_info": {
   "codemirror_mode": "r",
   "file_extension": ".r",
   "mimetype": "text/x-r-source",
   "name": "R",
   "pygments_lexer": "r",
   "version": "4.4.1"
  }
 },
 "nbformat": 4,
 "nbformat_minor": 5
}
